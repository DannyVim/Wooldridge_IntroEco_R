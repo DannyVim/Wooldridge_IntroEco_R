{
 "cells": [
  {
   "cell_type": "code",
   "execution_count": null,
   "metadata": {},
   "outputs": [],
   "source": [
    "# C1\n",
    "\n",
    "library(wooldridge)\n",
    "wage1 <- wage1\n",
    "\n",
    "#i\n",
    "summary(wage1$educ)\n",
    "c(mean(wage1$educ),min(wage1$educ),max(wage1$educ))\n",
    "\n",
    "#ii\n",
    "mean(wage1$wage)\n",
    "\n",
    "#iii\n",
    "table(wage1$female)"
   ]
  },
  {
   "cell_type": "code",
   "execution_count": null,
   "metadata": {},
   "outputs": [],
   "source": [
    "# C2\n",
    "\n",
    "#i\n",
    "c(length(bwght2$cigs),length(bwght2$cigs[bwght2$cigs>0]))\n",
    "\n",
    "#ii\n",
    "mean(bwght2$cigs,na.rm = TRUE)\n",
    "\n",
    "#iii\n",
    "mean(bwght2$cigs[bwght2$cigs>0],na.rm=TRUE)\n",
    "\n",
    "#iv\n",
    "mean(bwght2$feduc,na.rm = TRUE)\n",
    "\n",
    "#v\n",
    "as.numeric(names(table(bwght2$npvis))[table(bwght2$npvis)==max(table(bwght2$npvis))])\n",
    "#as.numeric(names(sort(-table(bwght2$npvis)))[1])\n",
    "#as.numeric(names(which.max(table(bwght2$npvis))))"
   ]
  },
  {
   "cell_type": "code",
   "execution_count": null,
   "metadata": {},
   "outputs": [],
   "source": [
    "# C3\n",
    "\n",
    "#i\n",
    "c(max(meap01$math4),min(meap01$math4))\n",
    "\n",
    "#ii\n",
    "c(length(meap01$math4[meap01$math4==100]),length(meap01$math4[meap01$math4==100])/length(meap01$math4))\n",
    "\n",
    "#iii\n",
    "length(meap01$math4[meap01$math4==50])\n",
    "\n",
    "#iv\n",
    "with(meap01,mean(math4)>mean(read4))\n",
    "\n",
    "#v\n",
    "with(meap01, cor(math4,read4))\n",
    "\n",
    "#vi\n",
    "with(meap01, c(mean(exppp),sd(exppp)))"
   ]
  },
  {
   "cell_type": "code",
   "execution_count": 27,
   "metadata": {},
   "outputs": [
    {
     "data": {
      "text/html": [
       "0.415730337078652"
      ],
      "text/latex": [
       "0.415730337078652"
      ],
      "text/markdown": [
       "0.415730337078652"
      ],
      "text/plain": [
       "[1] 0.4157303"
      ]
     },
     "metadata": {},
     "output_type": "display_data"
    },
    {
     "data": {
      "text/html": [
       "<table>\n",
       "<caption>A data.frame: 2 × 2</caption>\n",
       "<thead>\n",
       "\t<tr><th scope=col>train</th><th scope=col>x</th></tr>\n",
       "\t<tr><th scope=col>&lt;int&gt;</th><th scope=col>&lt;dbl&gt;</th></tr>\n",
       "</thead>\n",
       "<tbody>\n",
       "\t<tr><td>0</td><td>4.554802</td></tr>\n",
       "\t<tr><td>1</td><td>6.349145</td></tr>\n",
       "</tbody>\n",
       "</table>\n"
      ],
      "text/latex": [
       "A data.frame: 2 × 2\n",
       "\\begin{tabular}{r|ll}\n",
       " train & x\\\\\n",
       " <int> & <dbl>\\\\\n",
       "\\hline\n",
       "\t 0 & 4.554802\\\\\n",
       "\t 1 & 6.349145\\\\\n",
       "\\end{tabular}\n"
      ],
      "text/markdown": [
       "\n",
       "A data.frame: 2 × 2\n",
       "\n",
       "| train &lt;int&gt; | x &lt;dbl&gt; |\n",
       "|---|---|\n",
       "| 0 | 4.554802 |\n",
       "| 1 | 6.349145 |\n",
       "\n"
      ],
      "text/plain": [
       "  train x       \n",
       "1 0     4.554802\n",
       "2 1     6.349145"
      ]
     },
     "metadata": {},
     "output_type": "display_data"
    },
    {
     "data": {
      "text/plain": [
       "      train\n",
       "unem78         0         1\n",
       "     0 0.6461538 0.7567568\n",
       "     1 0.3538462 0.2432432"
      ]
     },
     "metadata": {},
     "output_type": "display_data"
    }
   ],
   "source": [
    "# C4\n",
    "\n",
    "#i\n",
    "with(jtrain2,length(train[train==1])/length(train))\n",
    "\n",
    "#ii\n",
    "aggregate(jtrain2$re78,by=jtrain2[c('train')],FUN=mean)\n",
    "\n",
    "#iii\n",
    "prop.table(with(jtrain2,table(unem78,train)),2)"
   ]
  },
  {
   "cell_type": "code",
   "execution_count": null,
   "metadata": {},
   "outputs": [],
   "source": []
  }
 ],
 "metadata": {
  "kernelspec": {
   "display_name": "R",
   "language": "R",
   "name": "ir"
  },
  "language_info": {
   "codemirror_mode": "r",
   "file_extension": ".r",
   "mimetype": "text/x-r-source",
   "name": "R",
   "pygments_lexer": "r",
   "version": "3.6.1"
  }
 },
 "nbformat": 4,
 "nbformat_minor": 2
}
