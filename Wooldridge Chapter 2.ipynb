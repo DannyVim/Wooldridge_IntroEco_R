{
 "cells": [
  {
   "cell_type": "code",
   "execution_count": null,
   "metadata": {},
   "outputs": [],
   "source": [
    "#E3\n",
    "student<-1:8\n",
    "GPA<-c(2.8,3.4,3.0,3.5,3.6,3.0,2.7,3.7)\n",
    "ACT<-c(21,24,26,27,29,25,25,30)\n",
    "data <- data.frame(student,GPA,ACT)\n",
    "x <- mean(ACT)\n",
    "y <- mean(GPA)\n",
    "n <- 8\n",
    "\n",
    "# (i)\n",
    "# manual method to cal beta_1\n",
    "# beta_1 <- sum((ACT-x)*(GPA-y))/sum((ACT-x)^2)\n",
    "\n",
    "# coefficients\n",
    "beta_1 <- cov(ACT,GPA)/var(ACT)\n",
    "beta_0 <- y-beta_1*x\n",
    "\n",
    "# The same result with lsfit()\n",
    "lsfit(ACT,GPA)$coefficients\n",
    "\n",
    "(ii)\n",
    "# The fitted values and residuals\n",
    "fitited_value <- ACT*beta_1+beta_0\n",
    "residuals <- GPA-fitited_value\n",
    "\n",
    "(iii)\n",
    "# When the ACT eauqls to 20,\n",
    "GPA <- 20*beta_1+beta_0\n",
    "\n",
    "(iv)\n",
    "# The R-suqared value\n",
    "R2 <- 1-(sum(residuals^2)/sum((GPA-y)^2))"
   ]
  },
  {
   "cell_type": "code",
   "execution_count": null,
   "metadata": {},
   "outputs": [],
   "source": [
    "# E5\n",
    "\n",
    "## iii\n",
    "inc <- 1:500\n",
    "cons <- 0.853*inc-124.84\n",
    "mpc <- rep(c(0.853),times=500)\n",
    "apc <- cons/inc\n",
    "plot(inc,apc,type = 'l')\n",
    "abline(h=mpc,col='red')"
   ]
  },
  {
   "cell_type": "code",
   "execution_count": null,
   "metadata": {},
   "outputs": [],
   "source": [
    "# C1\n",
    "\n",
    "library(wooldridge)\n",
    "View(k401k)\n",
    "attach(k401k)\n",
    "\n",
    "# i\n",
    "mean(prate)\n",
    "mean(mrate)\n",
    "\n",
    "# ii\n",
    "fit <- lm(prate~mrate)\n",
    "summary(fit)\n",
    "\n",
    "# iv\n",
    "predict(fit,data.frame(mrate=3.5))"
   ]
  },
  {
   "cell_type": "code",
   "execution_count": null,
   "metadata": {},
   "outputs": [],
   "source": [
    "# C2\n",
    "library(wooldridge)\n",
    "View(ceosal2)\n",
    "\n",
    "# i\n",
    "with(ceosal2,c(mean(salary),mean(ceoten)))\n",
    "# ii\n",
    "with(ceosal2,c(length(ceoten[ceoten==0]),max(ceoten)))\n",
    "# iii\n",
    "summary(lm(log(salary)~ceoten,ceosal2))"
   ]
  },
  {
   "cell_type": "code",
   "execution_count": null,
   "metadata": {},
   "outputs": [],
   "source": [
    "# C3\n",
    "library(wooldridge)\n",
    "View(sleep75)\n",
    "\n",
    "summary(lm(sleep~totwrk,sleep75))"
   ]
  },
  {
   "cell_type": "code",
   "execution_count": null,
   "metadata": {},
   "outputs": [],
   "source": [
    "# C4\n",
    "library(wooldridge)\n",
    "View(wage2)\n",
    "\n",
    "with(wage2,c(mean(wage),mean(IQ),sd(IQ)))\n",
    "\n",
    "fit1 <- lm(wage~IQ,wage2)\n",
    "summary(fit1)\n",
    "fit1$coefficients['IQ']*15\n",
    "\n",
    "summary(lm(log(wage)~IQ,wage2))"
   ]
  },
  {
   "cell_type": "code",
   "execution_count": null,
   "metadata": {},
   "outputs": [],
   "source": [
    "# C5\n",
    "\n",
    "library(wooldridge)\n",
    "View(attend)\n",
    "\n",
    "with(attend,c(min(atndrte),max(atndrte)))\n",
    "\n",
    "summary(lm(atndrte~ACT,attend))"
   ]
  }
 ],
 "metadata": {
  "kernelspec": {
   "display_name": "R",
   "language": "R",
   "name": "ir"
  },
  "language_info": {
   "codemirror_mode": "r",
   "file_extension": ".r",
   "mimetype": "text/x-r-source",
   "name": "R",
   "pygments_lexer": "r",
   "version": "3.6.1"
  }
 },
 "nbformat": 4,
 "nbformat_minor": 4
}
